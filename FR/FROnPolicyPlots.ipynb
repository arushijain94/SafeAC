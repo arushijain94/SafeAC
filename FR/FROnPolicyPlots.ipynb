{
 "cells": [
  {
   "cell_type": "code",
   "execution_count": 1,
   "metadata": {},
   "outputs": [],
   "source": [
    "import matplotlib.pyplot as plt\n",
    "from matplotlib.font_manager import FontProperties\n",
    "import numpy as np\n",
    "import os\n",
    "from collections import defaultdict\n",
    "from matplotlib import cm\n",
    "import matplotlib as mpl\n",
    "mpl.style.use('classic')\n",
    "plt.rcParams.update({'font.size':22})\n",
    "import os.path, time\n",
    "import math"
   ]
  },
  {
   "cell_type": "code",
   "execution_count": 47,
   "metadata": {},
   "outputs": [
    {
     "name": "stdout",
     "output_type": "stream",
     "text": [
      "filename:  R50_E2000_Lam0.0_LRC0.01_LRTheta0.001_b5500.0_temp0.05_gam0.99 at i:  0 Reward shape:  (50, 2000)\n",
      "filename:  R50_E2000_Lam0.0_LRC0.1_LRTheta0.001_b5500.0_temp0.05_gam0.99 at i:  1 Reward shape:  (50, 2000)\n",
      "filename:  R50_E2000_Lam0.4_LRC0.01_LRTheta0.001_b5500.0_temp0.05_gam0.99 at i:  2 Reward shape:  (50, 2000)\n",
      "filename:  R50_E2000_Lam0.4_LRC0.1_LRTheta0.001_b5500.0_temp0.05_gam0.99 at i:  3 Reward shape:  (50, 2000)\n"
     ]
    }
   ],
   "source": [
    "#On Policy Baseline FR Data add\n",
    "major_dir = \"Results_BaselineVarUpdated\" # Add directory name where results are stored\n",
    "datep=\"17-05\" # Mention the date for which you want to plot\n",
    "path = os.path.join(major_dir, \"FR_\"+datep) # Change the directory structure of reading according to your saving structure\n",
    "save_folder = os.path.join(major_dir,\"Plots_\"+datep)\n",
    "if not os.path.exists(save_folder):\n",
    "        os.makedirs(save_folder)\n",
    "        \n",
    "dirs = os.listdir(path)\n",
    "file_names_to_read_i = []\n",
    "for dir_name in dirs:\n",
    "    if (dir_name.startswith(\"R50\") and \"E2000\" in dir_name):\n",
    "        files = os.listdir(os.path.join(path, dir_name))\n",
    "        if \"History.npy\" in files:\n",
    "            file_names_to_read_i.append(dir_name)        \n",
    "            \n",
    "final_rewards =[]\n",
    "episode =2000\n",
    "file_names_to_read= []\n",
    "name_to_index= {}\n",
    "cur_index_dict = 0\n",
    "final_nanes =[]\n",
    "for fi in file_names_to_read_i:\n",
    "    name_elements = fi.split(\"_seed\")\n",
    "    start_name = name_elements[0]\n",
    "    if start_name not in file_names_to_read:\n",
    "        name_to_index[start_name] = cur_index_dict                \n",
    "        file_names_to_read.append(start_name)\n",
    "        cur_index_dict+=1\n",
    "                \n",
    "for i in range(len(file_names_to_read)):\n",
    "    flag = 0\n",
    "    curr_return = []\n",
    "    for fi in file_names_to_read_i:    \n",
    "        name_elements = fi.split(\"_seed\")\n",
    "        start_name = name_elements[0]\n",
    "        if start_name in file_names_to_read[i]:\n",
    "            filename_reward = os.path.join(path,fi, \"History.npy\")\n",
    "            data = np.load(filename_reward)\n",
    "            curr_return.extend(data[:,:episode,0])\n",
    "            \n",
    "    return_tar = np.array(curr_return)    \n",
    "    averaged_reward = np.mean(return_tar, axis = 0)\n",
    "    variance_reward = np.std(return_tar, axis = 0)\n",
    "    print (\"filename: \", file_names_to_read[i], \"at i: \",i, \"Reward shape: \", return_tar.shape)\n",
    "    \n",
    "    data_reward = np.vstack((averaged_reward, variance_reward))\n",
    "    final_rewards.append(data_reward)    "
   ]
  },
  {
   "cell_type": "code",
   "execution_count": 48,
   "metadata": {},
   "outputs": [
    {
     "name": "stdout",
     "output_type": "stream",
     "text": [
      "filename:  Psi0.0_LRC0.05_LRTheta0.001_LRV0.02_temp0.05 at i:  0 Reward shape:  (50, 2000)\n",
      "filename:  Psi0.05_LRC0.1_LRTheta0.001_LRV0.02_temp0.05 at i:  1 Reward shape:  (50, 2000)\n",
      "filename:  Psi0.1_LRC0.1_LRTheta0.001_LRV0.02_temp0.05 at i:  2 Reward shape:  (50, 2000)\n"
     ]
    }
   ],
   "source": [
    "#On Policy FR Data add\n",
    "major_dir = \"Results_AC\" # Add directory name where results are stored\n",
    "datep=\"15-05\" # Mention the date for which you want to plot\n",
    "path = os.path.join(major_dir, \"FourRoomSACOnP_\"+datep) # Change the directory structure of reading according to your saving structure\n",
    "save_folder = os.path.join(major_dir,\"Plots_\"+datep)\n",
    "if not os.path.exists(save_folder):\n",
    "        os.makedirs(save_folder)\n",
    "        \n",
    "dirs = os.listdir(path)\n",
    "file_names_to_read_i = []\n",
    "for dir_name in dirs:\n",
    "    if (dir_name.startswith(\"R50\") and \"E2000\" in dir_name):\n",
    "        files = os.listdir(os.path.join(path, dir_name))\n",
    "        if \"History.npy\" in files:\n",
    "            file_names_to_read_i.append(dir_name)        \n",
    "            \n",
    "psis=[\"0.0\",\"0.05\",\"0.1\"]\n",
    "episode =2000\n",
    "name_to_index= {}\n",
    "file_names_to_read_temp=[]\n",
    "cur_index_dict = 0\n",
    "final_nanes =[]\n",
    "for i in range(len(psis)):    \n",
    "    for fi in file_names_to_read_i:  \n",
    "        if \"Psi\"+str(psis[i])+\"_\" in fi:\n",
    "            name_elements = fi.split(\"_seed\")\n",
    "            start_name = name_elements[0].split(\"_Psi\")[1]\n",
    "            start_name = \"Psi\"+start_name\n",
    "            if start_name not in file_names_to_read_temp:\n",
    "                name_to_index[start_name] = cur_index_dict                \n",
    "                file_names_to_read_temp.append(start_name)\n",
    "                cur_index_dict+=1\n",
    "                \n",
    "for i in range(len(file_names_to_read_temp)):\n",
    "    flag = 0\n",
    "    curr_return = []\n",
    "    for fi in file_names_to_read_i:    \n",
    "        name_elements = fi.split(\"_seed\")\n",
    "        start_name = name_elements[0].split(\"_Psi\")[1]\n",
    "        start_name = \"Psi\"+start_name\n",
    "        if start_name in file_names_to_read_temp[i]:\n",
    "            filename_reward = os.path.join(path,fi, \"History.npy\")\n",
    "            data = np.load(filename_reward)\n",
    "            curr_return.extend(data[:,:episode,1])\n",
    "            \n",
    "    return_tar = np.array(curr_return)    \n",
    "    averaged_reward = np.mean(return_tar, axis = 0)\n",
    "    variance_reward = np.std(return_tar, axis = 0)\n",
    "    print (\"filename: \", file_names_to_read_temp[i], \"at i: \",i, \"Reward shape: \", return_tar.shape)\n",
    "    \n",
    "    data_reward = np.vstack((averaged_reward, variance_reward))\n",
    "    final_rewards.append(data_reward)\n",
    "file_names_to_read.extend(file_names_to_read_temp)"
   ]
  },
  {
   "cell_type": "code",
   "execution_count": 49,
   "metadata": {
    "scrolled": false
   },
   "outputs": [
    {
     "name": "stdout",
     "output_type": "stream",
     "text": [
      "len(file_names_to_read) 7\n",
      "R50_E2000_Lam0.4_LRC0.01_LRTheta0.001_b5500.0_temp0.05_gam0.99\n",
      "Mean score:  38.012573\n",
      "Mean var:  19.796183\n",
      "2\n",
      "Psi0.0_LRC0.05_LRTheta0.001_LRV0.02_temp0.05\n",
      "Mean score:  42.32014\n",
      "Mean var:  14.15656\n",
      "4\n",
      "Psi0.1_LRC0.1_LRTheta0.001_LRV0.02_temp0.05\n",
      "Mean score:  42.770584\n",
      "Mean var:  9.765512\n",
      "6\n"
     ]
    },
    {
     "data": {
      "image/png": "[encoded data removed]",
      "text/plain": [
       "<Figure size 1080x576 with 1 Axes>"
      ]
     },
     "metadata": {},
     "output_type": "display_data"
    }
   ],
   "source": [
    "\"\"\"\n",
    "Return Plot\n",
    "\"\"\"\n",
    "save_folder = os.path.join(major_dir,\"ReturnDistPLotsOverall\")\n",
    "if not os.path.exists(save_folder):\n",
    "        os.makedirs(save_folder)\n",
    "\n",
    "start = 0.0\n",
    "stop = 1.0\n",
    "number_of_lines= len(file_names_to_read)\n",
    "cm_subsection = np.linspace(start, stop, number_of_lines)\n",
    "colors = [ cm.Dark2(x) for x in cm_subsection ]\n",
    "colors=['k','r', 'g', 'c', 'm','y','orange']\n",
    "\n",
    "labels_write=[\"Baseline-Variance\",\"$\\psi$=0 (On-Policy AC)\",\"$\\psi$=0.1 (Safe On-Policy AC)\"]\n",
    "color_count = 0\n",
    "\n",
    "start_from= 0\n",
    "end_to = 1000\n",
    "k_steps = 1 #Adjust ksteps accordingly here\n",
    "window = 50\n",
    "fig, ax = plt.subplots(figsize=(15, 8))\n",
    "color_count = 0\n",
    "print(\"len(file_names_to_read)\",len(file_names_to_read))\n",
    "for k in [2,4,6]:#range(0, len(file_names_to_read)):\n",
    "    reward = final_rewards[k][0][start_from:end_to]\n",
    "    reward_std = final_rewards[k][1][start_from:end_to]\n",
    "    mean_score = np.mean(reward[-100:])\n",
    "    mean_var = np.mean(reward_std[-100:])\n",
    "    length = int(reward.shape[0]/ window)\n",
    "    new_reward = np.zeros(length)\n",
    "    new_reward_std = np.zeros(length)\n",
    "    x_axis = []\n",
    "    for i in range(0,length):\n",
    "        new_reward[i] = np.mean(reward[i*window : i*window + window])\n",
    "        new_reward_std[i] = np.mean(reward_std[i*window : i*window + window])\n",
    "        x_axis.append(start_from+i*k_steps*window)\n",
    "\n",
    "    mean_std_dev = np.mean(new_reward_std)\n",
    "    error =new_reward_std\n",
    "    name = file_names_to_read[k]\n",
    "    linestyle=\"-\"\n",
    "    \n",
    "#     if mean_score <25.0:\n",
    "#         continue\n",
    "    print(file_names_to_read[k])\n",
    "    print(\"Mean score: \", mean_score)\n",
    "    print(\"Mean var: \", mean_var)\n",
    "    print(k)\n",
    "    \n",
    "#     plt.plot(x_axis, new_reward, label = name, linewidth = 2, color = colors[color_count] )\n",
    "    plt.errorbar(x_axis, new_reward, new_reward_std, label = labels_write[color_count],barsabove=True, linewidth = 2,capthick = 6, color = colors[color_count] )\n",
    "    color_count +=1\n",
    "\n",
    "plt.xlabel(\"Episode\", fontsize=22)\n",
    "plt.ylabel(\"Return\",fontsize=22)\n",
    "plt.xticks(fontsize=20)\n",
    "plt.yticks(fontsize=20)\n",
    "plt.legend(prop={'size': 20}, loc='best', handletextpad=0.1)\n",
    "\n",
    "plt.savefig((os.path.join(save_folder,\"OnPolicyComparisonNew\"+\".png\")), dpi=200, facecolor='w', edgecolor='w',\n",
    "           orientation='portrait', papertype=None, format=None,\n",
    "           transparent=True, bbox_inches='tight', pad_inches=0,\n",
    "           frameon=None)\n",
    "plt.show()\n",
    "plt.close()"
   ]
  },
  {
   "cell_type": "code",
   "execution_count": 3,
   "metadata": {},
   "outputs": [],
   "source": [
    "layout = \"\"\"\\\n",
    "wwwwwwwwwwwww\n",
    "w     w     w\n",
    "w   ffwff   w\n",
    "w  fffffff  w\n",
    "w   ffwff   w\n",
    "w     w     w\n",
    "ww wwww     w\n",
    "w     www www\n",
    "w     w     w\n",
    "w     w     w\n",
    "w           w\n",
    "w     w     w\n",
    "wwwwwwwwwwwww\n",
    "\"\"\""
   ]
  },
  {
   "cell_type": "code",
   "execution_count": 2,
   "metadata": {},
   "outputs": [
    {
     "name": "stderr",
     "output_type": "stream",
     "text": [
      "[2019-05-17 16:10:01,417] Making new env: Fourrooms-v0\n"
     ]
    }
   ],
   "source": [
    "#Plot FR in Discrete World\n",
    "import gym\n",
    "from fourrooms import Fourrooms\n",
    "import os\n",
    "import matplotlib.pyplot as plt\n",
    "import seaborn as sn\n",
    "\n",
    "class Tabular:\n",
    "    def __init__(self, nstates):\n",
    "        self.nstates = nstates\n",
    "\n",
    "    def __call__(self, state):\n",
    "        return np.array([state, ])\n",
    "\n",
    "    def __len__(self):\n",
    "        return self.nstates\n",
    "    \n",
    "   \n",
    "names =[\"Results_AC/FourRoomSACOnP_15-05/R50_E2000_Psi0.0_LRC0.05_LRTheta0.001_LRV0.02_temp0.05_seed10_Policy_S\",\n",
    "        \"Results_AC/FourRoomSACOnP_15-05/R50_E2000_Psi0.1_LRC0.1_LRTheta0.001_LRV0.02_temp0.05_seed10_Policy_S\",\n",
    "       \"Results_BaselineVarUpdated/FR_17-05/R50_E2000_Lam0.4_LRC0.1_LRTheta0.001_b5500.0_temp0.05_gam0.99_seed10\"]\n",
    "\n",
    "env = gym.make('Fourrooms-v0')\n",
    "num_states = env.observation_space.n\n",
    "features = Tabular(num_states)\n",
    "nactions = env.action_space.n\n",
    "weight_policy_total_list=[]\n",
    "for index in range(len(names)):\n",
    "    weight_policy_total_list.append(np.load(os.path.join(names[index],\"Weights_Policy.npy\")))\n"
   ]
  },
  {
   "cell_type": "code",
   "execution_count": 4,
   "metadata": {},
   "outputs": [],
   "source": [
    "def GetFrozenStates():\n",
    "    num_elem = 13\n",
    "    line_count = 0\n",
    "    element_count = 0\n",
    "    frozen_states =[]\n",
    "    state_num=0\n",
    "    for line in layout.splitlines():\n",
    "        for i in range(num_elem):        \n",
    "            if line[i] == \"f\":\n",
    "                frozen_states.append(state_num)\n",
    "            if line[i]!=\"w\":\n",
    "                state_num +=1\n",
    "    return frozen_states"
   ]
  },
  {
   "cell_type": "code",
   "execution_count": 13,
   "metadata": {},
   "outputs": [
    {
     "data": {
      "image/png": "[encoded data removed]",
      "text/plain": [
       "<Figure size 432x288 with 2 Axes>"
      ]
     },
     "metadata": {},
     "output_type": "display_data"
    }
   ],
   "source": [
    "#Plot discrete Puddle\n",
    "\n",
    "plt.figsize=(1,1)\n",
    "mat_layout,ann_layout, mapping_state_row_col = getEnvLayout(layout, False)\n",
    "sn.set(font_scale=0.6)\n",
    "ax = sn.heatmap(mat_layout, annot = ann_layout, fmt = '')\n",
    "plt.show()\n",
    "plt.close()"
   ]
  },
  {
   "cell_type": "code",
   "execution_count": 8,
   "metadata": {
    "scrolled": false
   },
   "outputs": [
    {
     "name": "stdout",
     "output_type": "stream",
     "text": [
      "0\n",
      "1\n",
      "2\n",
      "3\n",
      "4\n",
      "5\n",
      "6\n",
      "7\n",
      "8\n",
      "9\n",
      "10\n",
      "11\n",
      "12\n",
      "13\n",
      "14\n",
      "15\n",
      "16\n",
      "17\n",
      "18\n",
      "19\n",
      "20\n",
      "21\n",
      "22\n",
      "23\n",
      "24\n",
      "25\n",
      "26\n",
      "27\n",
      "28\n",
      "29\n",
      "30\n",
      "31\n",
      "32\n",
      "33\n",
      "34\n",
      "35\n",
      "36\n",
      "37\n",
      "38\n",
      "39\n",
      "40\n",
      "41\n",
      "42\n",
      "43\n",
      "44\n",
      "45\n",
      "46\n",
      "47\n",
      "48\n",
      "49\n"
     ]
    }
   ],
   "source": [
    "#Plot the return distribution to show the variance\n",
    "\n",
    "'''\n",
    "Find trajectories with finalized learning\n",
    "'''\n",
    "dir_name = os.path.join(\"DistReturn\")\n",
    "if not os.path.exists(dir_name):\n",
    "        os.makedirs(dir_name)\n",
    "        \n",
    "all_reward_distirbution_runs =[]\n",
    "for run_to_show in range(50):        \n",
    "    \n",
    "    all_reward_distirbution =[]\n",
    "    for t in range(len(names)):        \n",
    "        weight_policy_total = weight_policy_total_list[t]        \n",
    "#         run_to_show = 0\n",
    "        episode =-1    \n",
    "        num_trajectory = 10000\n",
    "        count_trajectory = 1\n",
    "        max_time_step = 100\n",
    "\n",
    "        return_val=[]\n",
    "        frozen_states = GetFrozenStates()\n",
    "\n",
    "        while(count_trajectory <= num_trajectory):\n",
    "            start = env.reset()\n",
    "            states_visited=[]\n",
    "            count_trajectory+=1\n",
    "            curr_state = start\n",
    "            curr_time = 0\n",
    "            d= False\n",
    "            gamma=0.99\n",
    "            current_dicounting_factor=1\n",
    "            discounted_reward = 0\n",
    "            while(curr_state!= 62 and max_time_step > curr_time and d!=True):\n",
    "                action = np.argmax(weight_policy_total[run_to_show,episode,curr_state, :])\n",
    "                next_state,r,d,_ = env.step(action)\n",
    "                if curr_state in frozen_states:\n",
    "                    r = np.random.normal(0,8.0)\n",
    "                discounted_reward += current_dicounting_factor*r\n",
    "                curr_state = next_state\n",
    "                current_dicounting_factor*=gamma\n",
    "            return_val.append(discounted_reward)\n",
    "        all_reward_distirbution.append(return_val)\n",
    "    all_reward_distirbution_runs.append(all_reward_distirbution)\n",
    "    print(run_to_show)\n",
    "# run=34\n",
    "# plt.figure(figsize = (10,10))\n",
    "# bins = np.linspace(-20, 110, 90)\n",
    "# plt.hist(all_reward_distirbution_runs[run], bins=20,range=(70,100), alpha=0.8,linewidth=0.2, label =['Baseline On-Policy AC','Safe On-Policy AC','Baseline-IndirectVar'])\n",
    "# plt.xlabel(\"Return\",fontsize=18)    \n",
    "# plt.xticks(fontsize=12)\n",
    "# plt.yticks(fontsize=12)\n",
    "# plt.legend(fontsize=15, loc='best')\n",
    "# # plt.savefig((os.path.join(dir_name, \"Final_Partial2_dist_run\"+str(run_to_show)+\".png\")), dpi=200, facecolor='w', \n",
    "# #     edgecolor='w', orientation='portrait', papertype=None, format=None,\n",
    "# #     transparent=True, bbox_inches='tight', pad_inches=0, frameon=None)\n",
    "# plt.show()\n",
    "# plt.close()\n"
   ]
  },
  {
   "cell_type": "code",
   "execution_count": 19,
   "metadata": {
    "scrolled": false
   },
   "outputs": [
    {
     "data": {
      "image/png": "[encoded data removed]",
      "text/plain": [
       "<Figure size 360x360 with 1 Axes>"
      ]
     },
     "metadata": {},
     "output_type": "display_data"
    }
   ],
   "source": [
    "#Ploting\n",
    "# r1- var\n",
    "# r2- var\n",
    "# ...\n",
    "\n",
    "# rn- var\n",
    "\n",
    "# Compute mean of variance and variance of variance\n",
    "\n",
    "#Plot the return distribution to show the variance\n",
    "\n",
    "'''\n",
    "Find trajectories with finalized learning\n",
    "'''\n",
    "dir_name = os.path.join(\"DistVariance\")\n",
    "if not os.path.exists(dir_name):\n",
    "        os.makedirs(dir_name)\n",
    "runs=50\n",
    "variance_arr= np.zeros((runs,3))\n",
    "for i in range(runs):    \n",
    "    for index in range(len(names)):\n",
    "        variance_arr[i,index] = np.var(all_reward_distirbution_runs[i][index],ddof=1)\n",
    "        \n",
    "plt.figure(figsize = (5,5))\n",
    "plt.boxplot(variance_arr, notch=True, labels=['AC','Safe AC','Baseline-Var'])\n",
    "plt.xticks(fontsize=12)\n",
    "plt.yticks(fontsize=12)\n",
    "plt.savefig((os.path.join(dir_name, \"Variance.png\")), dpi=200, facecolor='w', \n",
    "    edgecolor='w', orientation='portrait', papertype=None, format=None,\n",
    "    transparent=True, bbox_inches='tight', pad_inches=0, frameon=None)\n",
    "plt.show()\n",
    "plt.close()\n"
   ]
  },
  {
   "cell_type": "code",
   "execution_count": 22,
   "metadata": {},
   "outputs": [
    {
     "data": {
      "image/png": "[encoded data removed]",
      "text/plain": [
       "<Figure size 360x360 with 1 Axes>"
      ]
     },
     "metadata": {},
     "output_type": "display_data"
    }
   ],
   "source": [
    "#Ploting mean plot\n",
    "# r1- mean\n",
    "# r2- mean\n",
    "# ...\n",
    "\n",
    "# rn- mean\n",
    "\n",
    "# Compute mean of mean; variance of mean\n",
    "\n",
    "#Plot the return distribution to show the mean\n",
    "\n",
    "'''\n",
    "Find trajectories with finalized learning\n",
    "'''\n",
    "dir_name = os.path.join(\"DistMean\")\n",
    "if not os.path.exists(dir_name):\n",
    "        os.makedirs(dir_name)\n",
    "runs=50\n",
    "mean_arr= np.zeros((runs,3))\n",
    "for i in range(runs):    \n",
    "    for index in range(len(names)):\n",
    "        mean_arr[i,index] = np.mean(all_reward_distirbution_runs[i][index])\n",
    "\n",
    "        \n",
    "plt.figure(figsize = (5,5))\n",
    "plt.boxplot(mean_arr, notch=True, labels=['AC','Safe AC','Baseline-Var'])\n",
    "plt.xticks(fontsize=12)\n",
    "plt.yticks(fontsize=12)\n",
    "plt.savefig((os.path.join(dir_name, \"Mean.png\")), dpi=200, facecolor='w', \n",
    "    edgecolor='w', orientation='portrait', papertype=None, format=None,\n",
    "    transparent=True, bbox_inches='tight', pad_inches=0, frameon=None)\n",
    "plt.show()\n",
    "plt.close()\n"
   ]
  },
  {
   "cell_type": "code",
   "execution_count": 30,
   "metadata": {},
   "outputs": [
    {
     "name": "stdout",
     "output_type": "stream",
     "text": [
      "name:  AC  arg:  4  mean:  45.266544141786625\n",
      "Varinace- Arg: 13  var:  43.986687464117146 mean of this:  44.59862106271958\n",
      "-------------------\n",
      "name:  Safe AC  arg:  16  mean:  44.62511702228558\n",
      "Varinace- Arg: 10  var:  36.79118434445494 mean of this:  44.22130210711069\n",
      "-------------------\n",
      "name:  Baseline-Var  arg:  0  mean:  44.05326128051267\n",
      "Varinace- Arg: 4  var:  86.75253704799684 mean of this:  42.87717784804035\n",
      "-------------------\n"
     ]
    }
   ],
   "source": [
    "#finding the best run wich had highest mean and lowest variance\n",
    "type_names= ['AC','Safe AC','Baseline-Var']\n",
    "dir_name = os.path.join(\"OverallRunsPerf\")\n",
    "if not os.path.exists(dir_name):\n",
    "        os.makedirs(dir_name)\n",
    "\n",
    "x= np.arange(0,50)\n",
    "for index in range(len(type_names)):\n",
    "    arg = np.argmax(mean_arr[:,index])\n",
    "    arg_var = np.argmin(variance_arr[:,index])\n",
    "    print(\"name: \", type_names[index], \" arg: \", arg, \" mean: \", mean_arr[arg, index])\n",
    "    print(\"Varinace- Arg:\",arg_var, \" var: \", variance_arr[arg_var, index], \"mean of this: \", mean_arr[arg_var,index])\n",
    "    print(\"-------------------\")\n",
    "#     plt.plot(x, mean_arr[:,index], label=\"mean\")\n",
    "#     plt.plot(x, variance_arr[:,index], label=\"var\")\n",
    "#     plt.title(type_names[index])\n",
    "#     plt.legend(fontsize=15, loc='best')\n",
    "#     plt.savefig((os.path.join(dir_name, \"Perf.png\")), dpi=200, facecolor='w', \n",
    "#     edgecolor='w', orientation='portrait', papertype=None, format=None,\n",
    "#     transparent=True, bbox_inches='tight', pad_inches=0, frameon=None)\n",
    "#     plt.show()\n",
    "#     plt.close()"
   ]
  },
  {
   "cell_type": "code",
   "execution_count": 45,
   "metadata": {},
   "outputs": [
    {
     "data": {
      "image/png": "[encoded data removed]",
      "text/plain": [
       "<Figure size 720x720 with 1 Axes>"
      ]
     },
     "metadata": {},
     "output_type": "display_data"
    }
   ],
   "source": [
    "#plot return distribution now\n",
    "runs= [13,10,4]\n",
    "type_names= ['AC','Safe AC','Baseline-Var']\n",
    "plt.figure(figsize = (10, 10))\n",
    "return_distribution =[]\n",
    "for i in range(len(runs)):\n",
    "    return_distribution.append(all_reward_distirbution_runs[runs[i]][i])\n",
    "\n",
    "bins = np.linspace(-10, 110, 90)\n",
    "plt.hist(return_distribution, bins=10, range=(50,70), alpha=0.8,linewidth=0.2, label =type_names)\n",
    "# plt.hist(return_distribution, bins, alpha=0.8,linewidth=0.2, label =type_names)\n",
    "plt.xlabel(\"Return\",fontsize=18)    \n",
    "plt.xticks(fontsize=12)\n",
    "plt.yticks(fontsize=12)\n",
    "plt.legend(fontsize=15, loc='best')\n",
    "plt.savefig((os.path.join(dir_name, \"ZoomedRightReturnDist.png\")), dpi=200, facecolor='w', \n",
    "edgecolor='w', orientation='portrait', papertype=None, format=None,\n",
    "transparent=True, bbox_inches='tight', pad_inches=0, frameon=None)\n",
    "plt.show()\n",
    "plt.close()\n"
   ]
  }
 ],
 "metadata": {
  "kernelspec": {
   "display_name": "Python 3",
   "language": "python",
   "name": "python3"
  },
  "language_info": {
   "codemirror_mode": {
    "name": "ipython",
    "version": 3
   },
   "file_extension": ".py",
   "mimetype": "text/x-python",
   "name": "python",
   "nbconvert_exporter": "python",
   "pygments_lexer": "ipython3",
   "version": "3.6.5"
  }
 },
 "nbformat": 4,
 "nbformat_minor": 2
}
